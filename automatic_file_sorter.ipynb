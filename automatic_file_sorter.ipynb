{
 "cells": [
  {
   "cell_type": "code",
   "execution_count": 1,
   "id": "f5c2a2c1",
   "metadata": {},
   "outputs": [],
   "source": [
    "import os\n",
    "import shutil"
   ]
  },
  {
   "cell_type": "code",
   "execution_count": 2,
   "id": "8c4304b0",
   "metadata": {},
   "outputs": [],
   "source": [
    "# Define file extensions and their corresponding directories\n",
    "file_types = {\n",
    "    '.txt': 'Text Files',\n",
    "    '.csv': 'CSV Files',\n",
    "    '.jpg': 'Image Files',\n",
    "    '.png': 'Image Files',\n",
    "    '.pdf': 'PDF Files'\n",
    "}\n"
   ]
  },
  {
   "cell_type": "code",
   "execution_count": 3,
   "id": "ab25930f",
   "metadata": {},
   "outputs": [],
   "source": [
    "# Define the source and destination directories\n",
    "source_dir = r\"C:\\Users\\user\\Desktop\\New folder (2)\"\n",
    "destination_dir = r\"C:\\Users\\user\\Desktop\\sorted files\""
   ]
  },
  {
   "cell_type": "code",
   "execution_count": 4,
   "id": "3424ae3b",
   "metadata": {},
   "outputs": [],
   "source": [
    "for filename in os.listdir(source_dir):\n",
    "    if os.path.isfile(os.path.join(source_dir, filename)):\n",
    "        # Get the file extension\n",
    "        extension = os.path.splitext(filename)[1].lower()\n",
    "\n",
    "        # Check if the file type is defined in the dictionary\n",
    "        if extension in file_types:\n",
    "            # Get the destination directory\n",
    "            dest_dir = os.path.join(destination_dir, file_types[extension])\n",
    "\n",
    "            # Create the destination directory if it doesn't exist\n",
    "            if not os.path.exists(dest_dir):\n",
    "                os.makedirs(dest_dir)\n",
    "\n",
    "            print(f\"Moving file '{filename}' to '{dest_dir}'\")  # Add this line to print the filename and destination directory\n",
    "\n",
    "            # Move the file to the destination directory\n",
    "            shutil.move(os.path.join(source_dir, filename), os.path.join(dest_dir, filename))"
   ]
  },
  {
   "cell_type": "code",
   "execution_count": null,
   "id": "e60040d7",
   "metadata": {},
   "outputs": [],
   "source": []
  }
 ],
 "metadata": {
  "kernelspec": {
   "display_name": "Python 3 (ipykernel)",
   "language": "python",
   "name": "python3"
  },
  "language_info": {
   "codemirror_mode": {
    "name": "ipython",
    "version": 3
   },
   "file_extension": ".py",
   "mimetype": "text/x-python",
   "name": "python",
   "nbconvert_exporter": "python",
   "pygments_lexer": "ipython3",
   "version": "3.9.12"
  }
 },
 "nbformat": 4,
 "nbformat_minor": 5
}
